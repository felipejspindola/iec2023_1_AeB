{
  "nbformat": 4,
  "nbformat_minor": 0,
  "metadata": {
    "colab": {
      "provenance": [],
      "authorship_tag": "ABX9TyN+m+95+mZ3G4SC6xs3usZQ",
      "include_colab_link": true
    },
    "kernelspec": {
      "name": "python3",
      "display_name": "Python 3"
    },
    "language_info": {
      "name": "python"
    }
  },
  "cells": [
    {
      "cell_type": "markdown",
      "metadata": {
        "id": "view-in-github",
        "colab_type": "text"
      },
      "source": [
        "<a href=\"https://colab.research.google.com/github/felipejspindola/iec2023_1_AeB/blob/main/entregas-%20Felipe%20J/Untitled0.ipynb\" target=\"_parent\"><img src=\"https://colab.research.google.com/assets/colab-badge.svg\" alt=\"Open In Colab\"/></a>"
      ]
    },
    {
      "cell_type": "code",
      "execution_count": null,
      "metadata": {
        "id": "3MxvR3PxejIJ"
      },
      "outputs": [],
      "source": []
    },
    {
      "cell_type": "markdown",
      "source": [
        "introdução a engenharia de computação"
      ],
      "metadata": {
        "id": "03ECCp78gspF"
      }
    },
    {
      "cell_type": "code",
      "source": [
        "from platform import python_version\n",
        "print(f'a versão em uso é {python_version()}.')"
      ],
      "metadata": {
        "colab": {
          "base_uri": "https://localhost:8080/"
        },
        "id": "DyJArEajg-ec",
        "outputId": "faeceb3c-5464-4f08-c134-bcb0479827cb"
      },
      "execution_count": 6,
      "outputs": [
        {
          "output_type": "stream",
          "name": "stdout",
          "text": [
            "a versão em uso é 3.10.12.\n"
          ]
        }
      ]
    },
    {
      "cell_type": "markdown",
      "source": [
        "operadores aritimeticos\n"
      ],
      "metadata": {
        "id": "LNqYRX0zivhI"
      }
    },
    {
      "cell_type": "code",
      "source": [
        "# adição\n",
        "1+1"
      ],
      "metadata": {
        "colab": {
          "base_uri": "https://localhost:8080/"
        },
        "id": "KV8PNKohi1Ko",
        "outputId": "7028d827-5c5b-45da-a8e7-8940fc59733a"
      },
      "execution_count": 7,
      "outputs": [
        {
          "output_type": "execute_result",
          "data": {
            "text/plain": [
              "2"
            ]
          },
          "metadata": {},
          "execution_count": 7
        }
      ]
    },
    {
      "cell_type": "code",
      "source": [
        "#subtração\n",
        "2-1"
      ],
      "metadata": {
        "id": "xs39qOXtjF7Q"
      },
      "execution_count": null,
      "outputs": []
    },
    {
      "cell_type": "code",
      "source": [
        "#mutiplicação\n",
        "2*2"
      ],
      "metadata": {
        "id": "ZIZF7NUvjOTe"
      },
      "execution_count": null,
      "outputs": []
    },
    {
      "cell_type": "code",
      "source": [
        "#divisão\n",
        "2/2"
      ],
      "metadata": {
        "id": "Bmbl5ruQjUCw"
      },
      "execution_count": null,
      "outputs": []
    },
    {
      "cell_type": "code",
      "source": [
        "#potencia\n",
        "4**2"
      ],
      "metadata": {
        "id": "hHtLFY4wjgzQ"
      },
      "execution_count": null,
      "outputs": []
    },
    {
      "cell_type": "code",
      "source": [
        "# modulo (resto da divisão)\n"
      ],
      "metadata": {
        "id": "VaPc_Lm0jnXm"
      },
      "execution_count": null,
      "outputs": []
    },
    {
      "cell_type": "code",
      "source": [
        "#qual o tipo de (?) -> inteiro\n",
        "type(5)"
      ],
      "metadata": {
        "id": "aotNyy52j9qM"
      },
      "execution_count": null,
      "outputs": []
    },
    {
      "cell_type": "markdown",
      "source": [
        "condicionais\n"
      ],
      "metadata": {
        "id": "oehW82yvkbTT"
      }
    },
    {
      "cell_type": "code",
      "source": [
        "#condicional if\n",
        "if 5 > 2\n",
        "print('a sentença é verdadeira')"
      ],
      "metadata": {
        "id": "VSE3mEv5keZj"
      },
      "execution_count": null,
      "outputs": []
    },
    {
      "cell_type": "code",
      "source": [
        "#condicional if ... else\n",
        "if 5 > 2\n",
        "print('a sentença é verdadeira')\n",
        " else print('a sentença é falsa')"
      ],
      "metadata": {
        "id": "WMWcvsU9lHTx"
      },
      "execution_count": null,
      "outputs": []
    },
    {
      "cell_type": "code",
      "source": [
        "#condicional if ... else com variavel\n"
      ],
      "metadata": {
        "id": "TbHgZfL6lYfb"
      },
      "execution_count": null,
      "outputs": []
    }
  ]
}